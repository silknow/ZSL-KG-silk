{
 "cells": [
  {
   "cell_type": "code",
   "execution_count": 587,
   "metadata": {},
   "outputs": [],
   "source": [
    "import multiprocessing as mp\n",
    "\n",
    "import string\n",
    "import pickle\n",
    "import numpy as np\n",
    "import pandas as pd\n",
    "from nltk.corpus import stopwords\n",
    "from tqdm.notebook import tqdm\n",
    "import matplotlib.pyplot as plt\n",
    "import seaborn as sns\n",
    "\n",
    "from sklearn.metrics import classification_report, confusion_matrix"
   ]
  },
  {
   "cell_type": "code",
   "execution_count": 588,
   "metadata": {},
   "outputs": [],
   "source": [
    "#%%timeit: 2min 22s ± 302 ms per loop (mean ± std. dev. of 7 runs, 1 loop each)\n",
    "# wv_from_text = KeyedVectors.load_word2vec_format(\"numberbatch-en-19.08.txt\")\n",
    "\n",
    "# %%timeit: 723 ms ± 8.4 ms per loop (mean ± std. dev. of 7 runs, 1 loop each)\n",
    "numberbatch = pickle.load(open(\"numberbatch-en-19.08-en.pickle\", 'rb'))"
   ]
  },
  {
   "cell_type": "code",
   "execution_count": 589,
   "metadata": {},
   "outputs": [
    {
     "data": {
      "text/plain": [
       "516782"
      ]
     },
     "execution_count": 589,
     "metadata": {},
     "output_type": "execute_result"
    }
   ],
   "source": [
    "len(numberbatch.vocab)"
   ]
  },
  {
   "cell_type": "code",
   "execution_count": 590,
   "metadata": {},
   "outputs": [
    {
     "name": "stdout",
     "output_type": "stream",
     "text": [
      "en_material_post2.csv\t  zeste_material_en_post.csv\r\n",
      "en_technique_post2.csv\t  zeste_material_es_post.csv\r\n",
      "es_material_post2.csv\t  zeste_technique_en_post.csv\r\n",
      "es_technique_post2.csv\t  zeste_technique_es_post.csv\r\n",
      "es_visual_item_post2.csv  zeste_visual_item_es_post.csv\r\n"
     ]
    }
   ],
   "source": [
    "! ls datasets/silknow"
   ]
  },
  {
   "cell_type": "code",
   "execution_count": 591,
   "metadata": {},
   "outputs": [
    {
     "data": {
      "text/html": [
       "<div>\n",
       "<style scoped>\n",
       "    .dataframe tbody tr th:only-of-type {\n",
       "        vertical-align: middle;\n",
       "    }\n",
       "\n",
       "    .dataframe tbody tr th {\n",
       "        vertical-align: top;\n",
       "    }\n",
       "\n",
       "    .dataframe thead th {\n",
       "        text-align: right;\n",
       "    }\n",
       "</style>\n",
       "<table border=\"1\" class=\"dataframe\">\n",
       "  <thead>\n",
       "    <tr style=\"text-align: right;\">\n",
       "      <th></th>\n",
       "      <th>text</th>\n",
       "      <th>label</th>\n",
       "    </tr>\n",
       "  </thead>\n",
       "  <tbody>\n",
       "    <tr>\n",
       "      <th>0</th>\n",
       "      <td>Collar, embroidered silk satin for man's robe,...</td>\n",
       "      <td>http://data.silknow.org/vocabulary/627</td>\n",
       "    </tr>\n",
       "    <tr>\n",
       "      <th>1</th>\n",
       "      <td>Collar of embroidered silk satin for man's rob...</td>\n",
       "      <td>http://data.silknow.org/vocabulary/627</td>\n",
       "    </tr>\n",
       "    <tr>\n",
       "      <th>2</th>\n",
       "      <td>The complete object would have been intended f...</td>\n",
       "      <td>http://data.silknow.org/vocabulary/627</td>\n",
       "    </tr>\n",
       "    <tr>\n",
       "      <th>3</th>\n",
       "      <td>Pair of \"mashru\" trousers</td>\n",
       "      <td>http://data.silknow.org/vocabulary/627</td>\n",
       "    </tr>\n",
       "    <tr>\n",
       "      <th>4</th>\n",
       "      <td>Pair of \"mashru\" trousers, ikat,Varanasi, c.1867</td>\n",
       "      <td>http://data.silknow.org/vocabulary/627</td>\n",
       "    </tr>\n",
       "  </tbody>\n",
       "</table>\n",
       "</div>"
      ],
      "text/plain": [
       "                                                text  \\\n",
       "0  Collar, embroidered silk satin for man's robe,...   \n",
       "1  Collar of embroidered silk satin for man's rob...   \n",
       "2  The complete object would have been intended f...   \n",
       "3                          Pair of \"mashru\" trousers   \n",
       "4   Pair of \"mashru\" trousers, ikat,Varanasi, c.1867   \n",
       "\n",
       "                                    label  \n",
       "0  http://data.silknow.org/vocabulary/627  \n",
       "1  http://data.silknow.org/vocabulary/627  \n",
       "2  http://data.silknow.org/vocabulary/627  \n",
       "3  http://data.silknow.org/vocabulary/627  \n",
       "4  http://data.silknow.org/vocabulary/627  "
      ]
     },
     "execution_count": 591,
     "metadata": {},
     "output_type": "execute_result"
    }
   ],
   "source": [
    "ds_materials = pd.read_csv('datasets/silknow/zeste_material_en_post.csv').rename(columns={'material':'label'})\n",
    "ds_materials.label = ds_materials.label.str.lower()\n",
    "ds_materials.head()"
   ]
  },
  {
   "cell_type": "code",
   "execution_count": 592,
   "metadata": {},
   "outputs": [
    {
     "data": {
      "text/plain": [
       "http://data.silknow.org/vocabulary/628    557\n",
       "http://data.silknow.org/vocabulary/627    344\n",
       "Name: label, dtype: int64"
      ]
     },
     "execution_count": 592,
     "metadata": {},
     "output_type": "execute_result"
    }
   ],
   "source": [
    "ds_materials.label.value_counts()"
   ]
  },
  {
   "cell_type": "code",
   "execution_count": 593,
   "metadata": {},
   "outputs": [
    {
     "data": {
      "text/plain": [
       "901"
      ]
     },
     "execution_count": 593,
     "metadata": {},
     "output_type": "execute_result"
    }
   ],
   "source": [
    "len(ds_materials)"
   ]
  },
  {
   "cell_type": "code",
   "execution_count": 594,
   "metadata": {},
   "outputs": [],
   "source": [
    "def get_word_neighborhood(word, depth=2, allowed_rels=['isa', 'relatedto', 'synonym'], keep='top20000'):\n",
    "    neighborhood = pickle.load(open('/data/zeste_cache/neighborhoods/'+word+'.pickle', 'rb'))\n",
    "    neighborhood_words = list(neighborhood.keys())\n",
    "    \n",
    "    if allowed_rels != 'all':\n",
    "        for n in neighborhood_words:\n",
    "            if all(rel not in neighborhood[n]['rels'] for rel in allowed_rels):\n",
    "                del neighborhood[n]\n",
    "                continue\n",
    "\n",
    "    to_visit_next = list(neighborhood.keys())\n",
    "    \n",
    "    while depth > 1:\n",
    "        \n",
    "        additions = []\n",
    "        while len(to_visit_next) > 0:\n",
    "            w = to_visit_next.pop()\n",
    "            nn = get_word_neighborhood(w, depth=1, allowed_rels=allowed_rels)\n",
    "            for ww in nn:\n",
    "                if ww in neighborhood:\n",
    "                    neighborhood[ww]['from'].append(w)\n",
    "                    neighborhood[ww]['rels'].extend(['<>'] + nn[ww]['rels'])\n",
    "                else:\n",
    "                    neighborhood[ww] = {}\n",
    "                    neighborhood[ww]['from'] = [w]\n",
    "                    neighborhood[ww]['rels'] = nn[ww]['rels']\n",
    "                    if word in numberbatch and ww in numberbatch:\n",
    "                        neighborhood[ww]['sim'] = numberbatch.similarity(word, ww)\n",
    "                    else:\n",
    "                        neighborhood[ww]['sim'] = 0.0\n",
    "                    additions.append(ww)\n",
    "        to_visit_next = additions\n",
    "        depth -= 1\n",
    "    \n",
    "    if keep.startswith('top'):\n",
    "        k = int(keep.split('top')[1])\n",
    "        all_scores = [neighborhood[kw]['sim'] for kw in neighborhood]\n",
    "        all_words = list(neighborhood.keys())\n",
    "        if k < len(all_scores):\n",
    "            lowest_top = sorted(all_scores, reverse=True)[k]\n",
    "            for kw in all_words:\n",
    "                if neighborhood[kw]['sim'] <= lowest_top:\n",
    "                    del neighborhood[kw]\n",
    "    \n",
    "    return neighborhood"
   ]
  },
  {
   "cell_type": "code",
   "execution_count": 595,
   "metadata": {},
   "outputs": [],
   "source": [
    "def preprocess(doc):\n",
    "    doc = ''.join(c for c in doc if c not in string.punctuation or c == ' ').lower()\n",
    "    doc_tokens = doc.split(' ')\n",
    "    doc_tokens = [w.lower() for w in doc_tokens]\n",
    "    doc_tokens = [w for w in doc_tokens if w not in stopwords.words('english')]\n",
    "    doc_tokens = [w.replace('\"', '').replace('?', '') for w in doc_tokens]\n",
    "    doc_tokens = [w.replace('-', '_') for w in doc_tokens if w != '']\n",
    "\n",
    "    return doc_tokens"
   ]
  },
  {
   "cell_type": "code",
   "execution_count": 596,
   "metadata": {},
   "outputs": [],
   "source": [
    "def get_words_neighborhood(words, depth=2, allowed_rels=['isa', 'relatedto', 'synonym'], keep='top20000'):\n",
    "    words = words.split(';')\n",
    "    ns = []\n",
    "    \n",
    "    for word in words:\n",
    "        ns.append(get_word_neighborhood(word, depth=depth, allowed_rels=allowed_rels, keep=keep))\n",
    "    neighborhood = ns[0].copy()\n",
    "    \n",
    "    for w, nn in zip(words[1:], ns[1:]):\n",
    "        for ww in nn:\n",
    "            if ww in neighborhood:\n",
    "                neighborhood[ww]['from'].append(w)\n",
    "                neighborhood[ww]['rels'].extend(['<>'] + nn[ww]['rels'])\n",
    "                neighborhood[ww]['sim'] = max(neighborhood[ww]['sim'], nn[ww]['sim'])\n",
    "            else:\n",
    "                neighborhood[ww] = {}\n",
    "                neighborhood[ww]['from'] = [w]\n",
    "                neighborhood[ww]['rels'] = nn[ww]['rels']\n",
    "                neighborhood[ww]['sim']  = nn[ww]['sim']\n",
    "\n",
    "    return neighborhood"
   ]
  },
  {
   "cell_type": "code",
   "execution_count": 597,
   "metadata": {},
   "outputs": [
    {
     "data": {
      "text/plain": [
       "['http://data.silknow.org/vocabulary/627',\n",
       " 'http://data.silknow.org/vocabulary/628']"
      ]
     },
     "execution_count": 597,
     "metadata": {},
     "output_type": "execute_result"
    }
   ],
   "source": [
    "sorted(ds_materials.label.unique())"
   ]
  },
  {
   "cell_type": "code",
   "execution_count": 598,
   "metadata": {},
   "outputs": [
    {
     "data": {
      "text/plain": [
       "dict_keys(['rose', 'musical_artist', 'tea_rose', 'rosa_laevigata', 'rosebud', 'rose_colored', 'rosemaling', 'roseless', 'rosa_rubiginosa', 'rosaceae', 'rose_bowl', 'old_rose', 'rosé', 'шипшина', 'rosewater', 'roselike', 'roze', 'ruusa', 'roser', 'roseling', 'serviceberry', 'rosaniline', 'musk_rose', 'վարդենի', 'itburnu', 'rose_cold', 'compass_rose', 'rosa_pimpinellifolia', 'rising', 'quincite', 'roseness', 'rosewood', 'purple', 'rose_water', 'mahaleb', 'arctic_raspberry', 'rise', 'black_spot', 'jetbead', 'rous', 'rosehip', 'rosa_omeiensis', 'rose_topaz', 'roziero', 'redden', 'rosa_canina', 'amelanchier', 'rosaceous', 'rosa_foetida', 'lolajöb', 'thorn', 'rosed', 'rosarian', 'rosula', 'noisette', 'jack', 'ורדא', 'rosa_rugosa', 'rock_rose', 'rosa_damascena', 'rosen', 'english_rose', 'pop_music', 'pink', 'roseleaf', 'rose_cut', 'china_rose', 'hawthorn', 'mawar', 'rooj', 'garden', 'rose_window', 'rose_syrup', 'red', 'hybrid_tea', 'rosulate', 'rosebush', 'rose_slug', 'compass_card', 'rose_chafer', 'roseola', 'rōhi', '玫瑰', 'rosa_sericea', 'soapbark', 'roses', 'ninebark', 'rosewort', 'rozenn', 'rosebay_rhododendron', 'ireland', 'rose_coloured_glasses', 'sinusoid', 'multiflora_rose', 'rose_noble', 'tormentil', 'roseworm', 'rose_geranium', 'parsley_piert', 'rosa', 'rosemaler', 'rose_garden', 'rosa_centifolia', 'harkness_roses', 'roose', 'damask_rose', 'rosette', 'rouge', 'rosing', 'rosy', 'smell_nice', 'black_hellebore', 'botanique', 'rosa_banksiae', 'mountain_rose', 'rosefinch', 'angel_water', 'rosemallow', 'fragrant_flower', 'rosish', 'rose_croix', 'rose_myrtle', 'گل', 'rosa_henryi', 'madagascar_periwinkle', 'thorns', 'rosa_dumalis', 'троянда', 'rose_petal', 'mathematics', 'rosiness', 'hardhack', 'cynarrhodium', 'glen_rose', 'seeded', 'aculeus', 'rubus', 'rosa_gigantea', 'perfume', 'rosa_moschata', 'rosebed', 'hurdhe', 'riz', 'meadowsweet', 'rosha_grass', 'camellia', 'rosier', 'roisin', 'ܘܪܕܐ', 'roza', 'graph_theory', 'arisen', 'ϝροδον', 'ᕉᓴ', 'roos', 'bowed_psaltery', 'be_not_bed_of_roses', 'itbirnu', 'eurosid', 'cabbage_rose', 'rosery', 'canker', 'roosipõõsas', 'floribunda', 'fragrant', 'misty_rose', 'rosehead', 'rose_tint', 'sporotrichosis', 'melrose', 'rosa_glauca', 'alba', 'ground_rose', 'attar', 'rambler', 'trellis', 'roseira', 'palmarosa', 'rosanna', 'viburnum', 'cliffrose', 'royce', 'flower', 'гюл', 'spirea', 'chamiso', 'rohesia', 'sweetbrier', 'wṛda', 'roseate', 'rosa_filipes', 'attar_of_roses', 'நிலத்தாமரை', 'graph', 'red_flower', 'mountain_avens', 'silverweed', 'gwl', 'роза', 'rosa_arkansana', 'rosal', 'blush', 'arose', 'rodomel', 'blush_wine', 'τριανταφυλλια', 'rosepetal', 'flower_room', 'shadbush', 'bouquet_of_circles', 'گلاب', 'dog_rose', 'шыпшына', 'roselle', 'singing', 'ros', 'christmas_rose', 'rose_mallow', 'rosa_chinensis', 'baby_rose', 'rosa_gallica', 'rosated', 'ורד', 'nozzle', 'toyon', 'gulkand', 'medlar', 'rosedrop', 'carnation', 'rose_oil', 'roză', 'gül', 'rose_hip', 'waridi', 'шиповник', 'վարդ', 'wind_rose', 'rosie', 'barbed', 'růže', 'blackberry', 'wâr', \"lady's_mantle\", 'youngberry', 'roosa', 'గులాబి', 'midinette', 'rose_order', 'come_up_roses', 'smell_like_rose', 'rosa_multiflora', 'desert_rose', 'rosefish', 'eglantine', 'plant', '𐬬𐬀𐬭𐬆𐬜𐬀', 'polar', 'namby_pamby', 'has', 'colour', 'ruusu', 'mousetail', 'roseal', 'rose_red', 'rose_coloured', 'midsummer_men', \"jew's_mallow\", 'multiflora', 'geraniol', 'ceiling_rose', 'mountain_ash', 'word', 'rose_oxide', 'ruža', 'bloom_is_off_rose', 'rosiculture', 'mwaridi', 'has_thorns', 'sġajra', 'loke', 'risen', 'vertex', 'new_york_state_flower', 'pleasant_odor', 'roseroot', 'hip', 'shrub', 'وردة', 'bramble', 'maccaboy', 'banksia_rose', 'バラ', 'rose_apple', 'flush', 'rose_quartz', 'մասրենի', 'bush', 'bushes', 'singular_of_roses', 'रोज', 'héraldique', 'wedge_of_circles', 'rosadabimül', 'ροδον', 'beautiful_flower', 'rose_tinted', 'rhodo', 'rose_fever', 'rosa_pinetorum', 'rozenstruik', 'rose_of_sharon', 'ружа', 'sunrose', 'vrtnica', 'beautiful', 'cherokee_rose', 'memorial_rose', 'bud', 'rambling_rose', 'rózsa', 'róża', 'falooda', 'trandafir', 'moss_rose', 'wars_of_roses', \"aaron's_beard\", 'rhodomel', 'run_for_roses', 'cloudberry', 'heraldiccharge', 'chokeberry', 'roseous', 'under_rose', 'roseanna', 'jacqueminot', 'rosanne', 'rosied', 'strawberry', 'ροδη', 'square', 'rose_pink', 'rockrose', 'juneberry', 'rosegarden', 'गुलाब', 'guelder_rose'])"
      ]
     },
     "execution_count": 598,
     "metadata": {},
     "output_type": "execute_result"
    }
   ],
   "source": [
    "get_word_neighborhood('rose', 1, 'all').keys()"
   ]
  },
  {
   "cell_type": "code",
   "execution_count": 599,
   "metadata": {},
   "outputs": [
    {
     "name": "stdout",
     "output_type": "stream",
     "text": [
      "3\n",
      "['gold', 'plant', 'silver']\n"
     ]
    }
   ],
   "source": [
    "\"\"\"mapping = {  'brocade': 'brocade',\n",
    "             'brocatelle': 'brocatelle',\n",
    "             'chiné': 'chiné',\n",
    "             'damask': 'damask',\n",
    "             'embroidery': \"embroidery\",\n",
    "             'florentine': \"florentine\",\n",
    "             'gros': \"gros\",\n",
    "             'jacquard weave': \"jacquard_loom\",\n",
    "             'lampas': \"lampas\",\n",
    "             'moiré' : 'moiré',\n",
    "             'pattern weft': \"weft\",\n",
    "             'plain': \"plain\",\n",
    "             'velvet': \"velvet\"}\"\"\"\n",
    "\n",
    "mapping = { 'http://data.silknow.org/vocabulary/627': 'gold' ,\n",
    "             'http://data.silknow.org/vocabulary/628': 'silver',\n",
    "          'http://data.silknow.org/vocabulary/214': 'plant'}\n",
    "\n",
    "labels = sorted(set(mapping.values()))\n",
    "print(len(labels))\n",
    "print(labels)"
   ]
  },
  {
   "cell_type": "code",
   "execution_count": null,
   "metadata": {},
   "outputs": [],
   "source": []
  },
  {
   "cell_type": "code",
   "execution_count": 600,
   "metadata": {},
   "outputs": [
    {
     "data": {
      "application/vnd.jupyter.widget-view+json": {
       "model_id": "4890ef9d045b44e2a2b02d685473482c",
       "version_major": 2,
       "version_minor": 0
      },
      "text/plain": [
       "HBox(children=(FloatProgress(value=0.0, max=3.0), HTML(value='')))"
      ]
     },
     "metadata": {},
     "output_type": "display_data"
    },
    {
     "name": "stdout",
     "output_type": "stream",
     "text": [
      "\n",
      "CPU times: user 8.97 s, sys: 0 ns, total: 8.97 s\n",
      "Wall time: 8.96 s\n"
     ]
    }
   ],
   "source": [
    "%%time\n",
    "pbar = tqdm(labels)\n",
    "\n",
    "labels_cgr = {}\n",
    "for label in pbar:\n",
    "    pbar.set_description(label)\n",
    "    labels_cgr[label] = get_words_neighborhood(label, 2, 'all', keep='top20000')"
   ]
  },
  {
   "cell_type": "code",
   "execution_count": 601,
   "metadata": {},
   "outputs": [
    {
     "data": {
      "text/plain": [
       "{'gold': 20000, 'plant': 20000, 'silver': 20000}"
      ]
     },
     "execution_count": 601,
     "metadata": {},
     "output_type": "execute_result"
    }
   ],
   "source": [
    "{l:len(labels_cgr[l]) for l in labels_cgr}"
   ]
  },
  {
   "cell_type": "code",
   "execution_count": 602,
   "metadata": {},
   "outputs": [
    {
     "data": {
      "text/plain": [
       "dict_keys(['gold', 'plant', 'silver'])"
      ]
     },
     "execution_count": 602,
     "metadata": {},
     "output_type": "execute_result"
    }
   ],
   "source": [
    "labels_cgr.keys()"
   ]
  },
  {
   "cell_type": "code",
   "execution_count": 603,
   "metadata": {},
   "outputs": [],
   "source": [
    "def get_document_score(doc, label_neighborhood):\n",
    "    # tokens = preprocess(doc)\n",
    "    if type(doc) == str:\n",
    "        doc = doc.split(' ')\n",
    "    tokens = doc\n",
    "    related_words = []\n",
    "    score = 0\n",
    "    for token in tokens: \n",
    "        if token in label_neighborhood:\n",
    "            similarity = label_neighborhood[token]['sim']\n",
    "            if similarity > 0:\n",
    "                related_words.append((token, label_neighborhood[token]['rels'][0], similarity))\n",
    "                score += similarity\n",
    "        \n",
    "    return score# , sorted(related_words, key=lambda t: -t[-1])"
   ]
  },
  {
   "cell_type": "code",
   "execution_count": 604,
   "metadata": {},
   "outputs": [
    {
     "data": {
      "text/plain": [
       "\"Collar, embroidered silk satin for man's robe, China, Qing dynasty, mid 19th century.\""
      ]
     },
     "execution_count": 604,
     "metadata": {},
     "output_type": "execute_result"
    }
   ],
   "source": [
    "ds_materials.text[0]"
   ]
  },
  {
   "cell_type": "code",
   "execution_count": 605,
   "metadata": {},
   "outputs": [],
   "source": [
    "data_silknow = ds_materials.text.tolist()"
   ]
  },
  {
   "cell_type": "code",
   "execution_count": 606,
   "metadata": {},
   "outputs": [
    {
     "name": "stdout",
     "output_type": "stream",
     "text": [
      "Number of processors:  32\n"
     ]
    }
   ],
   "source": [
    "print(\"Number of processors: \", mp.cpu_count())"
   ]
  },
  {
   "cell_type": "code",
   "execution_count": 607,
   "metadata": {},
   "outputs": [
    {
     "name": "stdout",
     "output_type": "stream",
     "text": [
      "CPU times: user 202 ms, sys: 2.43 s, total: 2.63 s\n",
      "Wall time: 2.76 s\n"
     ]
    }
   ],
   "source": [
    "%%time\n",
    "with mp.Pool(mp.cpu_count()) as pool:\n",
    "    data_preprocessed = pool.map(preprocess, ds_materials.text)"
   ]
  },
  {
   "cell_type": "code",
   "execution_count": 608,
   "metadata": {},
   "outputs": [],
   "source": [
    "def scoring_silknow(doc, labels_ns=labels_cgr):\n",
    "    return np.argmax([get_document_score(doc, labels_ns[l]) for l in sorted(labels_ns.keys())])"
   ]
  },
  {
   "cell_type": "code",
   "execution_count": 609,
   "metadata": {},
   "outputs": [],
   "source": [
    "def generate_predictions(corpus_preprocessed, labels_cgr):\n",
    "    with mp.Pool(processes=mp.cpu_count()) as pool:\n",
    "        predictions = pool.map(scoring_silknow, corpus_preprocessed)\n",
    "    return predictions"
   ]
  },
  {
   "cell_type": "code",
   "execution_count": 610,
   "metadata": {},
   "outputs": [
    {
     "name": "stdout",
     "output_type": "stream",
     "text": [
      "CPU times: user 0 ns, sys: 1.9 s, total: 1.9 s\n",
      "Wall time: 1.91 s\n"
     ]
    }
   ],
   "source": [
    "%%time\n",
    "predictions = generate_predictions(data_preprocessed, labels_cgr)"
   ]
  },
  {
   "cell_type": "code",
   "execution_count": 611,
   "metadata": {},
   "outputs": [
    {
     "data": {
      "text/plain": [
       "[0, 0, 0, 0, 0, 2, 0, 0, 2, 2]"
      ]
     },
     "execution_count": 611,
     "metadata": {},
     "output_type": "execute_result"
    }
   ],
   "source": [
    "predictions[:10]"
   ]
  },
  {
   "cell_type": "code",
   "execution_count": 612,
   "metadata": {},
   "outputs": [],
   "source": [
    "prediction_labels = [labels[p] for p in predictions]"
   ]
  },
  {
   "cell_type": "code",
   "execution_count": 613,
   "metadata": {
    "scrolled": true
   },
   "outputs": [
    {
     "data": {
      "text/plain": [
       "{'gold', 'plant', 'silver'}"
      ]
     },
     "execution_count": 613,
     "metadata": {},
     "output_type": "execute_result"
    }
   ],
   "source": [
    "set(prediction_labels)"
   ]
  },
  {
   "cell_type": "code",
   "execution_count": 614,
   "metadata": {},
   "outputs": [],
   "source": [
    "true_labels = [mapping[l] for l in ds_materials.label.tolist()]"
   ]
  },
  {
   "cell_type": "code",
   "execution_count": null,
   "metadata": {},
   "outputs": [],
   "source": []
  },
  {
   "cell_type": "code",
   "execution_count": null,
   "metadata": {},
   "outputs": [],
   "source": []
  },
  {
   "cell_type": "code",
   "execution_count": null,
   "metadata": {},
   "outputs": [],
   "source": []
  },
  {
   "cell_type": "code",
   "execution_count": null,
   "metadata": {},
   "outputs": [],
   "source": []
  },
  {
   "cell_type": "markdown",
   "metadata": {},
   "source": [
    "# Materials"
   ]
  },
  {
   "cell_type": "code",
   "execution_count": 615,
   "metadata": {},
   "outputs": [
    {
     "name": "stdout",
     "output_type": "stream",
     "text": [
      "              precision    recall  f1-score   support\n",
      "\n",
      "        gold      0.730     0.509     0.600       493\n",
      "       plant      0.000     0.000     0.000         6\n",
      "      silver      0.558     0.774     0.649       402\n",
      "\n",
      "    accuracy                          0.624       901\n",
      "   macro avg      0.429     0.428     0.416       901\n",
      "weighted avg      0.648     0.624     0.618       901\n",
      "\n",
      "\n"
     ]
    },
    {
     "name": "stderr",
     "output_type": "stream",
     "text": [
      "/home/semantic/.conda/envs/ismail-transformers/lib/python3.8/site-packages/sklearn/metrics/_classification.py:1248: UndefinedMetricWarning: Precision and F-score are ill-defined and being set to 0.0 in labels with no predicted samples. Use `zero_division` parameter to control this behavior.\n",
      "  _warn_prf(average, modifier, msg_start, len(result))\n",
      "/home/semantic/.conda/envs/ismail-transformers/lib/python3.8/site-packages/sklearn/metrics/_classification.py:1248: UndefinedMetricWarning: Precision and F-score are ill-defined and being set to 0.0 in labels with no predicted samples. Use `zero_division` parameter to control this behavior.\n",
      "  _warn_prf(average, modifier, msg_start, len(result))\n",
      "/home/semantic/.conda/envs/ismail-transformers/lib/python3.8/site-packages/sklearn/metrics/_classification.py:1248: UndefinedMetricWarning: Precision and F-score are ill-defined and being set to 0.0 in labels with no predicted samples. Use `zero_division` parameter to control this behavior.\n",
      "  _warn_prf(average, modifier, msg_start, len(result))\n"
     ]
    }
   ],
   "source": [
    "print(classification_report(prediction_labels, true_labels, digits=3))\n",
    "m = np.asarray(prediction_labels)\n",
    "ds_materials[\"predictions\"] = m \n",
    "ds_materials.to_csv('materials-en-predictions.csv')\n",
    "\n",
    "print()"
   ]
  },
  {
   "cell_type": "code",
   "execution_count": 616,
   "metadata": {},
   "outputs": [
    {
     "data": {
      "text/plain": [
       "<matplotlib.axes._subplots.AxesSubplot at 0x7fd1844ce700>"
      ]
     },
     "execution_count": 616,
     "metadata": {},
     "output_type": "execute_result"
    },
    {
     "data": {
      "image/png": "[encoded data removed]",
      "text/plain": [
       "<Figure size 360x360 with 2 Axes>"
      ]
     },
     "metadata": {
      "needs_background": "light"
     },
     "output_type": "display_data"
    }
   ],
   "source": [
    "cm = confusion_matrix(prediction_labels, true_labels)\n",
    "cm_df = pd.DataFrame(cm, columns=labels, index=labels)\n",
    "plt.figure(figsize = (5,5))\n",
    "sns.heatmap(cm_df)"
   ]
  },
  {
   "cell_type": "markdown",
   "metadata": {},
   "source": [
    "# \"Top-k\" evaluation"
   ]
  },
  {
   "cell_type": "code",
   "execution_count": 617,
   "metadata": {},
   "outputs": [],
   "source": [
    "k = 2\n",
    "def scoring_silknow_top_n(doc, labels_ns=labels_cgr, n=k):\n",
    "    return np.argsort([get_document_score(doc, labels_ns[l]) for l in sorted(labels_ns.keys())])[:-(n+1):-1]\n",
    "def generate_top_predictions(corpus_preprocessed, labels_cgr):\n",
    "    with mp.Pool(processes=mp.cpu_count()) as pool:\n",
    "        predictions = pool.map(scoring_silknow_top_n, corpus_preprocessed)\n",
    "    return predictions"
   ]
  },
  {
   "cell_type": "code",
   "execution_count": 618,
   "metadata": {},
   "outputs": [],
   "source": [
    "true_labels = [mapping[l] for l in ds_materials.label.tolist()]\n",
    "topk_predictions_lists = generate_top_predictions(data_preprocessed, labels_cgr)\n",
    "prediction_labels_lists = [[labels[l] for l in p] for p in topk_predictions_lists]"
   ]
  },
  {
   "cell_type": "code",
   "execution_count": 619,
   "metadata": {},
   "outputs": [
    {
     "name": "stdout",
     "output_type": "stream",
     "text": [
      "              precision    recall  f1-score   support\n",
      "\n",
      "        gold      0.968     0.997     0.982       334\n",
      "       plant      0.000     0.000     0.000         3\n",
      "      silver      0.995     0.982     0.988       564\n",
      "\n",
      "    accuracy                          0.984       901\n",
      "   macro avg      0.654     0.660     0.657       901\n",
      "weighted avg      0.981     0.984     0.983       901\n",
      "\n"
     ]
    },
    {
     "name": "stderr",
     "output_type": "stream",
     "text": [
      "/home/semantic/.conda/envs/ismail-transformers/lib/python3.8/site-packages/sklearn/metrics/_classification.py:1248: UndefinedMetricWarning: Precision and F-score are ill-defined and being set to 0.0 in labels with no predicted samples. Use `zero_division` parameter to control this behavior.\n",
      "  _warn_prf(average, modifier, msg_start, len(result))\n",
      "/home/semantic/.conda/envs/ismail-transformers/lib/python3.8/site-packages/sklearn/metrics/_classification.py:1248: UndefinedMetricWarning: Precision and F-score are ill-defined and being set to 0.0 in labels with no predicted samples. Use `zero_division` parameter to control this behavior.\n",
      "  _warn_prf(average, modifier, msg_start, len(result))\n",
      "/home/semantic/.conda/envs/ismail-transformers/lib/python3.8/site-packages/sklearn/metrics/_classification.py:1248: UndefinedMetricWarning: Precision and F-score are ill-defined and being set to 0.0 in labels with no predicted samples. Use `zero_division` parameter to control this behavior.\n",
      "  _warn_prf(average, modifier, msg_start, len(result))\n"
     ]
    }
   ],
   "source": [
    "topk_predictions = []\n",
    "\n",
    "for i, gt_label in enumerate(true_labels):\n",
    "    topk_predictions.append(gt_label if gt_label in prediction_labels_lists[i] else prediction_labels_lists[i][0])\n",
    "print(classification_report(topk_predictions, true_labels, digits=3))"
   ]
  },
  {
   "cell_type": "code",
   "execution_count": 620,
   "metadata": {},
   "outputs": [
    {
     "name": "stdout",
     "output_type": "stream",
     "text": [
      "              precision    recall  f1-score   support\n",
      "\n",
      "        gold      1.000     1.000     1.000       344\n",
      "      silver      1.000     1.000     1.000       557\n",
      "\n",
      "    accuracy                          1.000       901\n",
      "   macro avg      1.000     1.000     1.000       901\n",
      "weighted avg      1.000     1.000     1.000       901\n",
      "\n"
     ]
    }
   ],
   "source": [
    "k = 3\n",
    "def scoring_silknow_top_n(doc, labels_ns=labels_cgr, n=k):\n",
    "    return np.argsort([get_document_score(doc, labels_ns[l]) for l in sorted(labels_ns.keys())])[:-(n+1):-1]\n",
    "def generate_top_predictions(corpus_preprocessed, labels_cgr):\n",
    "    with mp.Pool(processes=mp.cpu_count()) as pool:\n",
    "        predictions = pool.map(scoring_silknow_top_n, corpus_preprocessed)\n",
    "    return predictions\n",
    "true_labels = [mapping[l] for l in ds_materials.label.tolist()]\n",
    "topk_predictions_lists = generate_top_predictions(data_preprocessed, labels_cgr)\n",
    "prediction_labels_lists = [[labels[l] for l in p] for p in topk_predictions_lists]\n",
    "topk_predictions = []\n",
    "\n",
    "for i, gt_label in enumerate(true_labels):\n",
    "    topk_predictions.append(gt_label if gt_label in prediction_labels_lists[i] else prediction_labels_lists[i][0])\n",
    "print(classification_report(topk_predictions, true_labels, digits=3))"
   ]
  },
  {
   "cell_type": "code",
   "execution_count": null,
   "metadata": {},
   "outputs": [],
   "source": []
  },
  {
   "cell_type": "code",
   "execution_count": null,
   "metadata": {},
   "outputs": [],
   "source": []
  },
  {
   "cell_type": "code",
   "execution_count": null,
   "metadata": {},
   "outputs": [],
   "source": []
  },
  {
   "cell_type": "code",
   "execution_count": null,
   "metadata": {},
   "outputs": [],
   "source": []
  },
  {
   "cell_type": "code",
   "execution_count": null,
   "metadata": {},
   "outputs": [],
   "source": []
  },
  {
   "cell_type": "code",
   "execution_count": null,
   "metadata": {},
   "outputs": [],
   "source": []
  },
  {
   "cell_type": "code",
   "execution_count": null,
   "metadata": {},
   "outputs": [],
   "source": []
  }
 ],
 "metadata": {
  "kernelspec": {
   "display_name": "Python 3",
   "language": "python",
   "name": "python3"
  },
  "language_info": {
   "codemirror_mode": {
    "name": "ipython",
    "version": 3
   },
   "file_extension": ".py",
   "mimetype": "text/x-python",
   "name": "python",
   "nbconvert_exporter": "python",
   "pygments_lexer": "ipython3",
   "version": "3.8.2"
  }
 },
 "nbformat": 4,
 "nbformat_minor": 4
}
