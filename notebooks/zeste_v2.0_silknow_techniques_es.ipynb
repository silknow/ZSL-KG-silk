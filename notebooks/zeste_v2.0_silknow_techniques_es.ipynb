{
 "cells": [
  {
   "cell_type": "code",
   "execution_count": 1,
   "metadata": {},
   "outputs": [],
   "source": [
    "import multiprocessing as mp\n",
    "\n",
    "import string\n",
    "import pickle\n",
    "import numpy as np\n",
    "import pandas as pd\n",
    "from nltk.corpus import stopwords\n",
    "from tqdm.notebook import tqdm\n",
    "import matplotlib.pyplot as plt\n",
    "import seaborn as sns\n",
    "\n",
    "from sklearn.metrics import classification_report, confusion_matrix"
   ]
  },
  {
   "cell_type": "code",
   "execution_count": 2,
   "metadata": {},
   "outputs": [],
   "source": [
    "language = 'es'\n",
    "assert(language in ['en', 'fr', 'es'])"
   ]
  },
  {
   "cell_type": "code",
   "execution_count": 3,
   "metadata": {},
   "outputs": [],
   "source": [
    "numberbatch = pickle.load(open(f\"/data/zeste_cache/numberbatch-{language}-19.08.pickle\", 'rb'))"
   ]
  },
  {
   "cell_type": "code",
   "execution_count": 4,
   "metadata": {},
   "outputs": [
    {
     "data": {
      "text/plain": [
       "651859"
      ]
     },
     "execution_count": 4,
     "metadata": {},
     "output_type": "execute_result"
    }
   ],
   "source": [
    "len(numberbatch.vocab)"
   ]
  },
  {
   "cell_type": "code",
   "execution_count": 5,
   "metadata": {},
   "outputs": [
    {
     "name": "stdout",
     "output_type": "stream",
     "text": [
      "en_material_post2.csv\t  zeste_material_en_post.csv\r\n",
      "en_technique_post2.csv\t  zeste_material_es_post.csv\r\n",
      "es_material_post2.csv\t  zeste_technique_en_post.csv\r\n",
      "es_technique_post2.csv\t  zeste_technique_es_post.csv\r\n",
      "es_visual_item_post2.csv  zeste_visual_item_es_post.csv\r\n"
     ]
    }
   ],
   "source": [
    "! ls datasets/silknow"
   ]
  },
  {
   "cell_type": "code",
   "execution_count": 6,
   "metadata": {},
   "outputs": [
    {
     "data": {
      "text/html": [
       "<div>\n",
       "<style scoped>\n",
       "    .dataframe tbody tr th:only-of-type {\n",
       "        vertical-align: middle;\n",
       "    }\n",
       "\n",
       "    .dataframe tbody tr th {\n",
       "        vertical-align: top;\n",
       "    }\n",
       "\n",
       "    .dataframe thead th {\n",
       "        text-align: right;\n",
       "    }\n",
       "</style>\n",
       "<table border=\"1\" class=\"dataframe\">\n",
       "  <thead>\n",
       "    <tr style=\"text-align: right;\">\n",
       "      <th></th>\n",
       "      <th>text</th>\n",
       "      <th>label</th>\n",
       "    </tr>\n",
       "  </thead>\n",
       "  <tbody>\n",
       "    <tr>\n",
       "      <th>0</th>\n",
       "      <td>Paño de damasco verde con flecos dorados y esp...</td>\n",
       "      <td>http://data.silknow.org/vocabulary/168</td>\n",
       "    </tr>\n",
       "    <tr>\n",
       "      <th>1</th>\n",
       "      <td>Edad Moderna</td>\n",
       "      <td>http://data.silknow.org/vocabulary/168</td>\n",
       "    </tr>\n",
       "    <tr>\n",
       "      <th>2</th>\n",
       "      <td>Palio de damasco en verde con aplicaciones de ...</td>\n",
       "      <td>http://data.silknow.org/vocabulary/168</td>\n",
       "    </tr>\n",
       "    <tr>\n",
       "      <th>3</th>\n",
       "      <td>Edad Moderna</td>\n",
       "      <td>http://data.silknow.org/vocabulary/168</td>\n",
       "    </tr>\n",
       "    <tr>\n",
       "      <th>4</th>\n",
       "      <td>Edad Moderna</td>\n",
       "      <td>http://data.silknow.org/vocabulary/168</td>\n",
       "    </tr>\n",
       "  </tbody>\n",
       "</table>\n",
       "</div>"
      ],
      "text/plain": [
       "                                                text  \\\n",
       "0  Paño de damasco verde con flecos dorados y esp...   \n",
       "1                                       Edad Moderna   \n",
       "2  Palio de damasco en verde con aplicaciones de ...   \n",
       "3                                       Edad Moderna   \n",
       "4                                       Edad Moderna   \n",
       "\n",
       "                                    label  \n",
       "0  http://data.silknow.org/vocabulary/168  \n",
       "1  http://data.silknow.org/vocabulary/168  \n",
       "2  http://data.silknow.org/vocabulary/168  \n",
       "3  http://data.silknow.org/vocabulary/168  \n",
       "4  http://data.silknow.org/vocabulary/168  "
      ]
     },
     "execution_count": 6,
     "metadata": {},
     "output_type": "execute_result"
    }
   ],
   "source": [
    "ds_techniques = pd.read_csv('datasets/silknow/zeste_technique_es_post.csv').rename(columns={'technique':'label'})\n",
    "ds_techniques.label = ds_techniques.label.str.lower()\n",
    "ds_techniques.head()"
   ]
  },
  {
   "cell_type": "code",
   "execution_count": 7,
   "metadata": {},
   "outputs": [
    {
     "data": {
      "text/plain": [
       "http://data.silknow.org/vocabulary/168    740\n",
       "http://data.silknow.org/vocabulary/366    477\n",
       "http://data.silknow.org/vocabulary/305    413\n",
       "http://data.silknow.org/vocabulary/379    298\n",
       "http://data.silknow.org/vocabulary/87     226\n",
       "Name: label, dtype: int64"
      ]
     },
     "execution_count": 7,
     "metadata": {},
     "output_type": "execute_result"
    }
   ],
   "source": [
    "ds_techniques.label.value_counts()"
   ]
  },
  {
   "cell_type": "code",
   "execution_count": 8,
   "metadata": {},
   "outputs": [
    {
     "data": {
      "text/plain": [
       "2154"
      ]
     },
     "execution_count": 8,
     "metadata": {},
     "output_type": "execute_result"
    }
   ],
   "source": [
    "len(ds_techniques)"
   ]
  },
  {
   "cell_type": "code",
   "execution_count": 9,
   "metadata": {},
   "outputs": [],
   "source": [
    "def get_word_neighborhood(word, depth=2, allowed_rels='all', keep='top20000', language=language):\n",
    "    neighborhood = pickle.load(open('/data/zeste_cache/neighborhoods_'+language+'/'+word+'.pickle', 'rb'))\n",
    "    neighborhood_words = list(neighborhood.keys())\n",
    "    \n",
    "    if allowed_rels != 'all':\n",
    "        for n in neighborhood_words:\n",
    "            if all(rel not in neighborhood[n]['rels'] for rel in allowed_rels):\n",
    "                del neighborhood[n]\n",
    "                continue\n",
    "\n",
    "    to_visit_next = list(neighborhood.keys())\n",
    "    \n",
    "    while depth > 1:\n",
    "        additions = []\n",
    "        while len(to_visit_next) > 0:\n",
    "            w = to_visit_next.pop()\n",
    "            nn = get_word_neighborhood(w, depth=1, allowed_rels=allowed_rels)\n",
    "            for ww in nn:\n",
    "                if ww in neighborhood:\n",
    "                    neighborhood[ww]['from'].append(w)\n",
    "                    neighborhood[ww]['rels'].extend(['<>'] + nn[ww]['rels'])\n",
    "                else:\n",
    "                    neighborhood[ww] = {}\n",
    "                    neighborhood[ww]['from'] = [w]\n",
    "                    neighborhood[ww]['rels'] = nn[ww]['rels']\n",
    "                    if '/c/'+language+'/'+word in numberbatch and '/c/'+language+'/'+ww in numberbatch:\n",
    "                        neighborhood[ww]['sim'] = numberbatch.similarity('/c/'+language+'/'+word, '/c/'+language+'/'+ww)\n",
    "                    else:\n",
    "                        neighborhood[ww]['sim'] = 0.0\n",
    "                    additions.append(ww)\n",
    "        to_visit_next = additions\n",
    "        depth -= 1\n",
    "    \n",
    "    if keep.startswith('top'):\n",
    "        k = int(keep.split('top')[1])\n",
    "        all_scores = [neighborhood[kw]['sim'] for kw in neighborhood]\n",
    "        all_words = list(neighborhood.keys())\n",
    "        if k < len(all_scores):\n",
    "            lowest_top = sorted(all_scores, reverse=True)[k]\n",
    "            for kw in all_words:\n",
    "                if neighborhood[kw]['sim'] <= lowest_top:\n",
    "                    del neighborhood[kw]\n",
    "    \n",
    "    return neighborhood"
   ]
  },
  {
   "cell_type": "code",
   "execution_count": 10,
   "metadata": {},
   "outputs": [],
   "source": [
    "def preprocess(doc):\n",
    "    doc = ''.join(c for c in doc if c not in string.punctuation or c == ' ').lower()\n",
    "    doc_tokens = doc.split(' ')\n",
    "    doc_tokens = [w.lower() for w in doc_tokens]\n",
    "    doc_tokens = [w for w in doc_tokens if w not in stopwords.words('english')]\n",
    "    doc_tokens = [w.replace('\"', '').replace('?', '') for w in doc_tokens]\n",
    "    doc_tokens = [w.replace('-', '_') for w in doc_tokens if w != '']\n",
    "\n",
    "    return doc_tokens"
   ]
  },
  {
   "cell_type": "code",
   "execution_count": 11,
   "metadata": {},
   "outputs": [],
   "source": [
    "def get_words_neighborhood(words, depth=2, allowed_rels='all', keep='top20000', language=language):\n",
    "    words = words.split(';')\n",
    "    ns = []\n",
    "    \n",
    "    for word in words:\n",
    "        ns.append(get_word_neighborhood(word, depth=depth, allowed_rels=allowed_rels, keep=keep, language=language))\n",
    "    neighborhood = ns[0].copy()\n",
    "    \n",
    "    for w, nn in zip(words[1:], ns[1:]):\n",
    "        for ww in nn:\n",
    "            if ww in neighborhood:\n",
    "                neighborhood[ww]['from'].append(w)\n",
    "                neighborhood[ww]['rels'].extend(['<>'] + nn[ww]['rels'])\n",
    "                neighborhood[ww]['sim'] = max(neighborhood[ww]['sim'], nn[ww]['sim'])\n",
    "            else:\n",
    "                neighborhood[ww] = {}\n",
    "                neighborhood[ww]['from'] = [w]\n",
    "                neighborhood[ww]['rels'] = nn[ww]['rels']\n",
    "                neighborhood[ww]['sim']  = nn[ww]['sim']\n",
    "\n",
    "    return neighborhood"
   ]
  },
  {
   "cell_type": "code",
   "execution_count": null,
   "metadata": {},
   "outputs": [],
   "source": []
  },
  {
   "cell_type": "code",
   "execution_count": 12,
   "metadata": {},
   "outputs": [
    {
     "data": {
      "text/plain": [
       "['http://data.silknow.org/vocabulary/168',\n",
       " 'http://data.silknow.org/vocabulary/305',\n",
       " 'http://data.silknow.org/vocabulary/366',\n",
       " 'http://data.silknow.org/vocabulary/379',\n",
       " 'http://data.silknow.org/vocabulary/87']"
      ]
     },
     "execution_count": 12,
     "metadata": {},
     "output_type": "execute_result"
    }
   ],
   "source": [
    "sorted(ds_techniques.label.unique())"
   ]
  },
  {
   "cell_type": "code",
   "execution_count": 13,
   "metadata": {},
   "outputs": [
    {
     "data": {
      "text/plain": [
       "dict_keys(['rose', 'rosal', 'rosáceo', 'rosa', 'rosado', 'rosaleda', 'rosalista', 'pimpollo'])"
      ]
     },
     "execution_count": 13,
     "metadata": {},
     "output_type": "execute_result"
    }
   ],
   "source": [
    "get_word_neighborhood('rose', 1, 'all').keys()"
   ]
  },
  {
   "cell_type": "code",
   "execution_count": 14,
   "metadata": {},
   "outputs": [
    {
     "name": "stdout",
     "output_type": "stream",
     "text": [
      "5\n",
      "['bordado', 'damasco', 'lampás', 'raso', 'terciopelo']\n"
     ]
    }
   ],
   "source": [
    "\"\"\"mapping = {  'brocade': 'brocade',\n",
    "             'brocatelle': 'brocatelle',\n",
    "             'chiné': 'chiné',\n",
    "             'damask': 'damask',\n",
    "             'embroidery': \"embroidery\",\n",
    "             'florentine': \"florentine\",\n",
    "             'gros': \"gros\",\n",
    "             'jacquard weave': \"jacquard_loom\",\n",
    "             'lampas': \"lampas\",\n",
    "             'moiré' : 'moiré',\n",
    "             'pattern weft': \"weft\",\n",
    "             'plain': \"plain\",\n",
    "             'velvet': \"velvet\"}\"\"\"\n",
    "\n",
    "mapping = { 'http://data.silknow.org/vocabulary/168':'damasco',\n",
    "            'http://data.silknow.org/vocabulary/366':'raso',\n",
    "            'http://data.silknow.org/vocabulary/305':'lampás',  \n",
    "           'http://data.silknow.org/vocabulary/379':'terciopelo',     \n",
    "            'http://data.silknow.org/vocabulary/87':'bordado'}\n",
    "\n",
    "labels = sorted(set(mapping.values()))\n",
    "print(len(labels))\n",
    "print(labels)"
   ]
  },
  {
   "cell_type": "code",
   "execution_count": null,
   "metadata": {},
   "outputs": [],
   "source": []
  },
  {
   "cell_type": "code",
   "execution_count": 15,
   "metadata": {},
   "outputs": [
    {
     "data": {
      "application/vnd.jupyter.widget-view+json": {
       "model_id": "43a5566d0eb14c8c849ef0d84e19cf01",
       "version_major": 2,
       "version_minor": 0
      },
      "text/plain": [
       "HBox(children=(FloatProgress(value=0.0, max=5.0), HTML(value='')))"
      ]
     },
     "metadata": {},
     "output_type": "display_data"
    },
    {
     "name": "stdout",
     "output_type": "stream",
     "text": [
      "\n",
      "CPU times: user 91.8 ms, sys: 7.47 ms, total: 99.2 ms\n",
      "Wall time: 94.4 ms\n"
     ]
    }
   ],
   "source": [
    "%%time\n",
    "pbar = tqdm(labels)\n",
    "\n",
    "labels_cgr = {}\n",
    "for label in pbar:\n",
    "    pbar.set_description(label)\n",
    "    labels_cgr[label] = get_words_neighborhood(label, 2, 'all', keep='top20000')"
   ]
  },
  {
   "cell_type": "code",
   "execution_count": 16,
   "metadata": {},
   "outputs": [
    {
     "data": {
      "text/plain": [
       "{'bordado': 79, 'damasco': 811, 'lampás': 5, 'raso': 422, 'terciopelo': 63}"
      ]
     },
     "execution_count": 16,
     "metadata": {},
     "output_type": "execute_result"
    }
   ],
   "source": [
    "{l:len(labels_cgr[l]) for l in labels_cgr}"
   ]
  },
  {
   "cell_type": "code",
   "execution_count": 17,
   "metadata": {},
   "outputs": [
    {
     "data": {
      "text/plain": [
       "dict_keys(['bordado', 'damasco', 'lampás', 'raso', 'terciopelo'])"
      ]
     },
     "execution_count": 17,
     "metadata": {},
     "output_type": "execute_result"
    }
   ],
   "source": [
    "labels_cgr.keys()"
   ]
  },
  {
   "cell_type": "code",
   "execution_count": 18,
   "metadata": {},
   "outputs": [],
   "source": [
    "def get_document_score(doc, label_neighborhood):\n",
    "    # tokens = preprocess(doc)\n",
    "    if type(doc) == str:\n",
    "        doc = doc.split(' ')\n",
    "    tokens = doc\n",
    "    related_words = []\n",
    "    score = 0\n",
    "    for token in tokens: \n",
    "        if token in label_neighborhood:\n",
    "            similarity = label_neighborhood[token]['sim']\n",
    "            if similarity > 0:\n",
    "                related_words.append((token, label_neighborhood[token]['rels'][0], similarity))\n",
    "                score += similarity\n",
    "        \n",
    "    return score# , sorted(related_words, key=lambda t: -t[-1])"
   ]
  },
  {
   "cell_type": "code",
   "execution_count": 19,
   "metadata": {},
   "outputs": [
    {
     "data": {
      "text/plain": [
       "'Paño de damasco verde con flecos dorados y espiguilla.  Presenta decoración con motivos florales.'"
      ]
     },
     "execution_count": 19,
     "metadata": {},
     "output_type": "execute_result"
    }
   ],
   "source": [
    "ds_techniques.text[0]"
   ]
  },
  {
   "cell_type": "code",
   "execution_count": 20,
   "metadata": {},
   "outputs": [],
   "source": [
    "data_silknow = ds_techniques.text.tolist()"
   ]
  },
  {
   "cell_type": "code",
   "execution_count": 21,
   "metadata": {},
   "outputs": [
    {
     "name": "stdout",
     "output_type": "stream",
     "text": [
      "Number of processors:  32\n"
     ]
    }
   ],
   "source": [
    "print(\"Number of processors: \", mp.cpu_count())"
   ]
  },
  {
   "cell_type": "code",
   "execution_count": 22,
   "metadata": {},
   "outputs": [
    {
     "name": "stdout",
     "output_type": "stream",
     "text": [
      "CPU times: user 211 ms, sys: 1.26 s, total: 1.47 s\n",
      "Wall time: 2.44 s\n"
     ]
    }
   ],
   "source": [
    "%%time\n",
    "with mp.Pool(mp.cpu_count()) as pool:\n",
    "    data_preprocessed = pool.map(preprocess, ds_techniques.text)"
   ]
  },
  {
   "cell_type": "code",
   "execution_count": 23,
   "metadata": {},
   "outputs": [],
   "source": [
    "def scoring_silknow(doc, labels_ns=labels_cgr):\n",
    "    return np.argmax([get_document_score(doc, labels_ns[l]) for l in sorted(labels_ns.keys())])"
   ]
  },
  {
   "cell_type": "code",
   "execution_count": 24,
   "metadata": {},
   "outputs": [],
   "source": [
    "def generate_predictions(corpus_preprocessed, labels_cgr):\n",
    "    with mp.Pool(processes=mp.cpu_count()) as pool:\n",
    "        predictions = pool.map(scoring_silknow, corpus_preprocessed)\n",
    "    return predictions"
   ]
  },
  {
   "cell_type": "code",
   "execution_count": 25,
   "metadata": {},
   "outputs": [
    {
     "name": "stdout",
     "output_type": "stream",
     "text": [
      "CPU times: user 0 ns, sys: 1.17 s, total: 1.17 s\n",
      "Wall time: 1.17 s\n"
     ]
    }
   ],
   "source": [
    "%%time\n",
    "predictions = generate_predictions(data_preprocessed, labels_cgr)"
   ]
  },
  {
   "cell_type": "code",
   "execution_count": 26,
   "metadata": {},
   "outputs": [
    {
     "data": {
      "text/plain": [
       "[1, 0, 1, 0, 0, 1, 1, 1, 1, 0]"
      ]
     },
     "execution_count": 26,
     "metadata": {},
     "output_type": "execute_result"
    }
   ],
   "source": [
    "\n",
    "\n",
    "predictions[:10]"
   ]
  },
  {
   "cell_type": "code",
   "execution_count": 27,
   "metadata": {},
   "outputs": [],
   "source": [
    "\n",
    "prediction_labels = [labels[p] for p in predictions]"
   ]
  },
  {
   "cell_type": "code",
   "execution_count": 28,
   "metadata": {
    "scrolled": true
   },
   "outputs": [
    {
     "data": {
      "text/plain": [
       "{'bordado', 'damasco', 'lampás', 'raso', 'terciopelo'}"
      ]
     },
     "execution_count": 28,
     "metadata": {},
     "output_type": "execute_result"
    }
   ],
   "source": [
    "set(prediction_labels)"
   ]
  },
  {
   "cell_type": "code",
   "execution_count": 29,
   "metadata": {},
   "outputs": [],
   "source": [
    "true_labels = [mapping[l] for l in ds_techniques.label.tolist()]"
   ]
  },
  {
   "cell_type": "code",
   "execution_count": null,
   "metadata": {},
   "outputs": [],
   "source": []
  },
  {
   "cell_type": "code",
   "execution_count": null,
   "metadata": {},
   "outputs": [],
   "source": []
  },
  {
   "cell_type": "code",
   "execution_count": null,
   "metadata": {},
   "outputs": [],
   "source": []
  },
  {
   "cell_type": "code",
   "execution_count": null,
   "metadata": {},
   "outputs": [],
   "source": []
  },
  {
   "cell_type": "markdown",
   "metadata": {},
   "source": [
    "# Techniques"
   ]
  },
  {
   "cell_type": "code",
   "execution_count": 30,
   "metadata": {},
   "outputs": [
    {
     "name": "stdout",
     "output_type": "stream",
     "text": [
      "              precision    recall  f1-score   support\n",
      "\n",
      "     bordado      0.907     0.116     0.205      1772\n",
      "     damasco      0.130     0.464     0.203       207\n",
      "      lampás      0.002     1.000     0.005         1\n",
      "        raso      0.084     0.440     0.141        91\n",
      "  terciopelo      0.245     0.880     0.383        83\n",
      "\n",
      "    accuracy                          0.193      2154\n",
      "   macro avg      0.274     0.580     0.187      2154\n",
      "weighted avg      0.772     0.193     0.209      2154\n",
      "\n"
     ]
    }
   ],
   "source": [
    "print(classification_report(prediction_labels, true_labels, digits=3))\n",
    "m = np.asarray(prediction_labels)\n",
    "ds_techniques[\"predictions\"] = m \n",
    "ds_techniques.to_csv('techniques-es-predictions.csv')"
   ]
  },
  {
   "cell_type": "code",
   "execution_count": 31,
   "metadata": {},
   "outputs": [
    {
     "data": {
      "text/plain": [
       "<matplotlib.axes._subplots.AxesSubplot at 0x7f4b97e3b4c0>"
      ]
     },
     "execution_count": 31,
     "metadata": {},
     "output_type": "execute_result"
    },
    {
     "data": {
      "image/png": "[encoded data removed]",
      "text/plain": [
       "<Figure size 360x360 with 2 Axes>"
      ]
     },
     "metadata": {
      "needs_background": "light"
     },
     "output_type": "display_data"
    }
   ],
   "source": [
    "cm = confusion_matrix(prediction_labels, true_labels)\n",
    "cm_df = pd.DataFrame(cm, columns=labels, index=labels)\n",
    "plt.figure(figsize = (5,5))\n",
    "sns.heatmap(cm_df)"
   ]
  },
  {
   "cell_type": "markdown",
   "metadata": {},
   "source": [
    "# \"Top-k\" evaluation"
   ]
  },
  {
   "cell_type": "code",
   "execution_count": 32,
   "metadata": {},
   "outputs": [
    {
     "name": "stdout",
     "output_type": "stream",
     "text": [
      "              precision    recall  f1-score   support\n",
      "\n",
      "     bordado      0.372     0.672     0.479       125\n",
      "     damasco      0.134     0.503     0.211       197\n",
      "      lampás      0.005     0.667     0.010         3\n",
      "        raso      0.922     0.928     0.925       474\n",
      "  terciopelo      0.980     0.215     0.353      1355\n",
      "\n",
      "    accuracy                          0.426      2154\n",
      "   macro avg      0.483     0.597     0.396      2154\n",
      "weighted avg      0.853     0.426     0.473      2154\n",
      "\n"
     ]
    }
   ],
   "source": [
    "k = 2\n",
    "def scoring_silknow_top_n(doc, labels_ns=labels_cgr, n=k):\n",
    "    return np.argsort([get_document_score(doc, labels_ns[l]) for l in sorted(labels_ns.keys())])[:-(n+1):-1]\n",
    "def generate_top_predictions(corpus_preprocessed, labels_cgr):\n",
    "    with mp.Pool(processes=mp.cpu_count()) as pool:\n",
    "        predictions = pool.map(scoring_silknow_top_n, corpus_preprocessed)\n",
    "    return predictions\n",
    "true_labels = [mapping[l] for l in ds_techniques.label.tolist()]\n",
    "topk_predictions_lists = generate_top_predictions(data_preprocessed, labels_cgr)\n",
    "prediction_labels_lists = [[labels[l] for l in p] for p in topk_predictions_lists]\n",
    "topk_predictions = []\n",
    "\n",
    "for i, gt_label in enumerate(true_labels):\n",
    "    topk_predictions.append(gt_label if gt_label in prediction_labels_lists[i] else prediction_labels_lists[i][0])\n",
    "print(classification_report(topk_predictions, true_labels, digits=3))"
   ]
  },
  {
   "cell_type": "code",
   "execution_count": 33,
   "metadata": {},
   "outputs": [
    {
     "name": "stdout",
     "output_type": "stream",
     "text": [
      "              precision    recall  f1-score   support\n",
      "\n",
      "     bordado      0.372     0.743     0.496       113\n",
      "     damasco      0.135     0.575     0.219       174\n",
      "      lampás      0.760     0.997     0.863       315\n",
      "        raso      0.994     0.963     0.978       492\n",
      "  terciopelo      0.997     0.280     0.437      1060\n",
      "\n",
      "    accuracy                          0.589      2154\n",
      "   macro avg      0.651     0.712     0.599      2154\n",
      "weighted avg      0.859     0.589     0.609      2154\n",
      "\n"
     ]
    }
   ],
   "source": [
    "k = 3\n",
    "def scoring_silknow_top_n(doc, labels_ns=labels_cgr, n=k):\n",
    "    return np.argsort([get_document_score(doc, labels_ns[l]) for l in sorted(labels_ns.keys())])[:-(n+1):-1]\n",
    "def generate_top_predictions(corpus_preprocessed, labels_cgr):\n",
    "    with mp.Pool(processes=mp.cpu_count()) as pool:\n",
    "        predictions = pool.map(scoring_silknow_top_n, corpus_preprocessed)\n",
    "    return predictions\n",
    "true_labels = [mapping[l] for l in ds_techniques.label.tolist()]\n",
    "topk_predictions_lists = generate_top_predictions(data_preprocessed, labels_cgr)\n",
    "prediction_labels_lists = [[labels[l] for l in p] for p in topk_predictions_lists]\n",
    "topk_predictions = []\n",
    "\n",
    "for i, gt_label in enumerate(true_labels):\n",
    "    topk_predictions.append(gt_label if gt_label in prediction_labels_lists[i] else prediction_labels_lists[i][0])\n",
    "print(classification_report(topk_predictions, true_labels, digits=3))"
   ]
  },
  {
   "cell_type": "code",
   "execution_count": null,
   "metadata": {},
   "outputs": [],
   "source": []
  },
  {
   "cell_type": "code",
   "execution_count": null,
   "metadata": {},
   "outputs": [],
   "source": []
  },
  {
   "cell_type": "code",
   "execution_count": null,
   "metadata": {},
   "outputs": [],
   "source": []
  },
  {
   "cell_type": "code",
   "execution_count": null,
   "metadata": {},
   "outputs": [],
   "source": []
  },
  {
   "cell_type": "code",
   "execution_count": null,
   "metadata": {},
   "outputs": [],
   "source": []
  },
  {
   "cell_type": "markdown",
   "metadata": {},
   "source": [
    "# "
   ]
  }
 ],
 "metadata": {
  "kernelspec": {
   "display_name": "Python 3",
   "language": "python",
   "name": "python3"
  },
  "language_info": {
   "codemirror_mode": {
    "name": "ipython",
    "version": 3
   },
   "file_extension": ".py",
   "mimetype": "text/x-python",
   "name": "python",
   "nbconvert_exporter": "python",
   "pygments_lexer": "ipython3",
   "version": "3.8.2"
  }
 },
 "nbformat": 4,
 "nbformat_minor": 4
}
