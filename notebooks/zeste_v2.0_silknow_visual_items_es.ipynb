{
 "cells": [
  {
   "cell_type": "code",
   "execution_count": 499,
   "metadata": {},
   "outputs": [],
   "source": [
    "import multiprocessing as mp\n",
    "\n",
    "import string\n",
    "import pickle\n",
    "import numpy as np\n",
    "import pandas as pd\n",
    "from nltk.corpus import stopwords\n",
    "from tqdm.notebook import tqdm\n",
    "import matplotlib.pyplot as plt\n",
    "import seaborn as sns\n",
    "\n",
    "from sklearn.metrics import classification_report, confusion_matrix"
   ]
  },
  {
   "cell_type": "code",
   "execution_count": 500,
   "metadata": {},
   "outputs": [],
   "source": [
    "language = 'es'\n",
    "assert(language in ['en', 'fr', 'es'])"
   ]
  },
  {
   "cell_type": "code",
   "execution_count": 501,
   "metadata": {},
   "outputs": [],
   "source": [
    "numberbatch = pickle.load(open(f\"/data/zeste_cache/numberbatch-{language}-19.08.pickle\", 'rb'))"
   ]
  },
  {
   "cell_type": "code",
   "execution_count": 502,
   "metadata": {},
   "outputs": [
    {
     "data": {
      "text/plain": [
       "651859"
      ]
     },
     "execution_count": 502,
     "metadata": {},
     "output_type": "execute_result"
    }
   ],
   "source": [
    "len(numberbatch.vocab)"
   ]
  },
  {
   "cell_type": "code",
   "execution_count": 503,
   "metadata": {},
   "outputs": [
    {
     "name": "stdout",
     "output_type": "stream",
     "text": [
      "en_material_post2.csv\t  zeste_material_en_post.csv\r\n",
      "en_technique_post2.csv\t  zeste_material_es_post.csv\r\n",
      "es_material_post2.csv\t  zeste_technique_en_post.csv\r\n",
      "es_technique_post2.csv\t  zeste_technique_es_post.csv\r\n",
      "es_visual_item_post2.csv  zeste_visual_item_es_post.csv\r\n"
     ]
    }
   ],
   "source": [
    "! ls datasets/silknow"
   ]
  },
  {
   "cell_type": "code",
   "execution_count": 504,
   "metadata": {},
   "outputs": [
    {
     "data": {
      "text/html": [
       "<div>\n",
       "<style scoped>\n",
       "    .dataframe tbody tr th:only-of-type {\n",
       "        vertical-align: middle;\n",
       "    }\n",
       "\n",
       "    .dataframe tbody tr th {\n",
       "        vertical-align: top;\n",
       "    }\n",
       "\n",
       "    .dataframe thead th {\n",
       "        text-align: right;\n",
       "    }\n",
       "</style>\n",
       "<table border=\"1\" class=\"dataframe\">\n",
       "  <thead>\n",
       "    <tr style=\"text-align: right;\">\n",
       "      <th></th>\n",
       "      <th>text</th>\n",
       "      <th>label</th>\n",
       "    </tr>\n",
       "  </thead>\n",
       "  <tbody>\n",
       "    <tr>\n",
       "      <th>0</th>\n",
       "      <td>Tejido rectangular con fondo en color y decora...</td>\n",
       "      <td>http://data.silknow.org/vocabulary/743</td>\n",
       "    </tr>\n",
       "    <tr>\n",
       "      <th>1</th>\n",
       "      <td>Edad Moderna</td>\n",
       "      <td>http://data.silknow.org/vocabulary/743</td>\n",
       "    </tr>\n",
       "    <tr>\n",
       "      <th>2</th>\n",
       "      <td>Cenefa enmarcada en tres de sus lados, y recor...</td>\n",
       "      <td>http://data.silknow.org/vocabulary/743</td>\n",
       "    </tr>\n",
       "    <tr>\n",
       "      <th>3</th>\n",
       "      <td>Edad Contemporánea</td>\n",
       "      <td>http://data.silknow.org/vocabulary/743</td>\n",
       "    </tr>\n",
       "    <tr>\n",
       "      <th>4</th>\n",
       "      <td>Colcha de damasco color rojo con decoración fl...</td>\n",
       "      <td>http://data.silknow.org/vocabulary/743</td>\n",
       "    </tr>\n",
       "  </tbody>\n",
       "</table>\n",
       "</div>"
      ],
      "text/plain": [
       "                                                text  \\\n",
       "0  Tejido rectangular con fondo en color y decora...   \n",
       "1                                       Edad Moderna   \n",
       "2  Cenefa enmarcada en tres de sus lados, y recor...   \n",
       "3                                 Edad Contemporánea   \n",
       "4  Colcha de damasco color rojo con decoración fl...   \n",
       "\n",
       "                                    label  \n",
       "0  http://data.silknow.org/vocabulary/743  \n",
       "1  http://data.silknow.org/vocabulary/743  \n",
       "2  http://data.silknow.org/vocabulary/743  \n",
       "3  http://data.silknow.org/vocabulary/743  \n",
       "4  http://data.silknow.org/vocabulary/743  "
      ]
     },
     "execution_count": 504,
     "metadata": {},
     "output_type": "execute_result"
    }
   ],
   "source": [
    "ds_techniques = pd.read_csv('datasets/silknow/zeste_visual_item_es_post.csv').rename(columns={'visual_item':'label'})\n",
    "ds_techniques.label = ds_techniques.label.str.lower()\n",
    "ds_techniques.head()"
   ]
  },
  {
   "cell_type": "code",
   "execution_count": 505,
   "metadata": {},
   "outputs": [
    {
     "data": {
      "text/plain": [
       "http://data.silknow.org/vocabulary/743    1467\n",
       "http://data.silknow.org/vocabulary/744     523\n",
       "http://data.silknow.org/vocabulary/745     272\n",
       "http://data.silknow.org/vocabulary/750     228\n",
       "http://data.silknow.org/vocabulary/759      57\n",
       "http://data.silknow.org/vocabulary/768      54\n",
       "http://data.silknow.org/vocabulary/765      47\n",
       "http://data.silknow.org/vocabulary/793      16\n",
       "http://data.silknow.org/vocabulary/785      11\n",
       "http://data.silknow.org/vocabulary/824      10\n",
       "Name: label, dtype: int64"
      ]
     },
     "execution_count": 505,
     "metadata": {},
     "output_type": "execute_result"
    }
   ],
   "source": [
    "ds_techniques.label.value_counts()"
   ]
  },
  {
   "cell_type": "code",
   "execution_count": 506,
   "metadata": {},
   "outputs": [
    {
     "data": {
      "text/plain": [
       "2685"
      ]
     },
     "execution_count": 506,
     "metadata": {},
     "output_type": "execute_result"
    }
   ],
   "source": [
    "len(ds_techniques)"
   ]
  },
  {
   "cell_type": "code",
   "execution_count": 507,
   "metadata": {},
   "outputs": [],
   "source": [
    "def get_word_neighborhood(word, depth=2, allowed_rels='all', keep='top20000', language=language):\n",
    "    neighborhood = pickle.load(open('/data/zeste_cache/neighborhoods_'+language+'/'+word+'.pickle', 'rb'))\n",
    "    neighborhood_words = list(neighborhood.keys())\n",
    "    \n",
    "    if allowed_rels != 'all':\n",
    "        for n in neighborhood_words:\n",
    "            if all(rel not in neighborhood[n]['rels'] for rel in allowed_rels):\n",
    "                del neighborhood[n]\n",
    "                continue\n",
    "\n",
    "    to_visit_next = list(neighborhood.keys())\n",
    "    \n",
    "    while depth > 1:\n",
    "        additions = []\n",
    "        while len(to_visit_next) > 0:\n",
    "            w = to_visit_next.pop()\n",
    "            nn = get_word_neighborhood(w, depth=1, allowed_rels=allowed_rels)\n",
    "            for ww in nn:\n",
    "                if ww in neighborhood:\n",
    "                    neighborhood[ww]['from'].append(w)\n",
    "                    neighborhood[ww]['rels'].extend(['<>'] + nn[ww]['rels'])\n",
    "                else:\n",
    "                    neighborhood[ww] = {}\n",
    "                    neighborhood[ww]['from'] = [w]\n",
    "                    neighborhood[ww]['rels'] = nn[ww]['rels']\n",
    "                    if '/c/'+language+'/'+word in numberbatch and '/c/'+language+'/'+ww in numberbatch:\n",
    "                        neighborhood[ww]['sim'] = numberbatch.similarity('/c/'+language+'/'+word, '/c/'+language+'/'+ww)\n",
    "                    else:\n",
    "                        neighborhood[ww]['sim'] = 0.0\n",
    "                    additions.append(ww)\n",
    "        to_visit_next = additions\n",
    "        depth -= 1\n",
    "    \n",
    "    if keep.startswith('top'):\n",
    "        k = int(keep.split('top')[1])\n",
    "        all_scores = [neighborhood[kw]['sim'] for kw in neighborhood]\n",
    "        all_words = list(neighborhood.keys())\n",
    "        if k < len(all_scores):\n",
    "            lowest_top = sorted(all_scores, reverse=True)[k]\n",
    "            for kw in all_words:\n",
    "                if neighborhood[kw]['sim'] <= lowest_top:\n",
    "                    del neighborhood[kw]\n",
    "    \n",
    "    return neighborhood"
   ]
  },
  {
   "cell_type": "code",
   "execution_count": 508,
   "metadata": {},
   "outputs": [],
   "source": [
    "def preprocess(doc):\n",
    "    doc = ''.join(c for c in doc if c not in string.punctuation or c == ' ').lower()\n",
    "    doc_tokens = doc.split(' ')\n",
    "    doc_tokens = [w.lower() for w in doc_tokens]\n",
    "    doc_tokens = [w for w in doc_tokens if w not in stopwords.words('english')]\n",
    "    doc_tokens = [w.replace('\"', '').replace('?', '') for w in doc_tokens]\n",
    "    doc_tokens = [w.replace('-', '_') for w in doc_tokens if w != '']\n",
    "\n",
    "    return doc_tokens"
   ]
  },
  {
   "cell_type": "code",
   "execution_count": 509,
   "metadata": {},
   "outputs": [],
   "source": [
    "def get_words_neighborhood(words, depth=2, allowed_rels='all', keep='top20000', language=language):\n",
    "    words = words.split(';')\n",
    "    ns = []\n",
    "    \n",
    "    for word in words:\n",
    "        ns.append(get_word_neighborhood(word, depth=depth, allowed_rels=allowed_rels, keep=keep, language=language))\n",
    "    neighborhood = ns[0].copy()\n",
    "    \n",
    "    for w, nn in zip(words[1:], ns[1:]):\n",
    "        for ww in nn:\n",
    "            if ww in neighborhood:\n",
    "                neighborhood[ww]['from'].append(w)\n",
    "                neighborhood[ww]['rels'].extend(['<>'] + nn[ww]['rels'])\n",
    "                neighborhood[ww]['sim'] = max(neighborhood[ww]['sim'], nn[ww]['sim'])\n",
    "            else:\n",
    "                neighborhood[ww] = {}\n",
    "                neighborhood[ww]['from'] = [w]\n",
    "                neighborhood[ww]['rels'] = nn[ww]['rels']\n",
    "                neighborhood[ww]['sim']  = nn[ww]['sim']\n",
    "\n",
    "    return neighborhood"
   ]
  },
  {
   "cell_type": "code",
   "execution_count": null,
   "metadata": {},
   "outputs": [],
   "source": []
  },
  {
   "cell_type": "code",
   "execution_count": 510,
   "metadata": {},
   "outputs": [
    {
     "data": {
      "text/plain": [
       "['http://data.silknow.org/vocabulary/743',\n",
       " 'http://data.silknow.org/vocabulary/744',\n",
       " 'http://data.silknow.org/vocabulary/745',\n",
       " 'http://data.silknow.org/vocabulary/750',\n",
       " 'http://data.silknow.org/vocabulary/759',\n",
       " 'http://data.silknow.org/vocabulary/765',\n",
       " 'http://data.silknow.org/vocabulary/768',\n",
       " 'http://data.silknow.org/vocabulary/785',\n",
       " 'http://data.silknow.org/vocabulary/793',\n",
       " 'http://data.silknow.org/vocabulary/824']"
      ]
     },
     "execution_count": 510,
     "metadata": {},
     "output_type": "execute_result"
    }
   ],
   "source": [
    "sorted(ds_techniques.label.unique())"
   ]
  },
  {
   "cell_type": "code",
   "execution_count": 511,
   "metadata": {},
   "outputs": [
    {
     "data": {
      "text/plain": [
       "dict_keys(['rose', 'rosal', 'rosáceo', 'rosa', 'rosado', 'rosaleda', 'rosalista', 'pimpollo'])"
      ]
     },
     "execution_count": 511,
     "metadata": {},
     "output_type": "execute_result"
    }
   ],
   "source": [
    "get_word_neighborhood('rose', 1, 'all').keys()"
   ]
  },
  {
   "cell_type": "code",
   "execution_count": 512,
   "metadata": {},
   "outputs": [
    {
     "name": "stdout",
     "output_type": "stream",
     "text": [
      "3\n",
      "['flor', 'geometría', 'planta']\n"
     ]
    }
   ],
   "source": [
    "\"\"\"mapping = {  'brocade': 'brocade',\n",
    "             'brocatelle': 'brocatelle',\n",
    "             'chiné': 'chiné',\n",
    "             'damask': 'damask',\n",
    "             'embroidery': \"embroidery\",\n",
    "             'florentine': \"florentine\",\n",
    "             'gros': \"gros\",\n",
    "             'jacquard weave': \"jacquard_loom\",\n",
    "             'lampas': \"lampas\",\n",
    "             'moiré' : 'moiré',\n",
    "             'pattern weft': \"weft\",\n",
    "             'plain': \"plain\",\n",
    "             'velvet': \"velvet\"}\"\"\"\n",
    "\n",
    "mapping = { 'http://data.silknow.org/vocabulary/744':'planta',\n",
    "            'http://data.silknow.org/vocabulary/743':'flor',\n",
    "            'http://data.silknow.org/vocabulary/745':'geometría',\n",
    "            'http://data.silknow.org/vocabulary/824':'flor',\n",
    "            'http://data.silknow.org/vocabulary/785':'flor',\n",
    "            'http://data.silknow.org/vocabulary/793':'planta',\n",
    "            'http://data.silknow.org/vocabulary/765':'planta',\n",
    "            'http://data.silknow.org/vocabulary/768':'geometría',\n",
    "            'http://data.silknow.org/vocabulary/759':'flor',\n",
    "            'http://data.silknow.org/vocabulary/750':'planta'           \n",
    "            }\n",
    "\n",
    "labels = sorted(set(mapping.values()))\n",
    "print(len(labels))\n",
    "print(labels)"
   ]
  },
  {
   "cell_type": "code",
   "execution_count": null,
   "metadata": {},
   "outputs": [],
   "source": []
  },
  {
   "cell_type": "code",
   "execution_count": 513,
   "metadata": {},
   "outputs": [
    {
     "data": {
      "application/vnd.jupyter.widget-view+json": {
       "model_id": "3e5adfec760f4293b57e3f85d5d94958",
       "version_major": 2,
       "version_minor": 0
      },
      "text/plain": [
       "HBox(children=(FloatProgress(value=0.0, max=3.0), HTML(value='')))"
      ]
     },
     "metadata": {},
     "output_type": "display_data"
    },
    {
     "name": "stdout",
     "output_type": "stream",
     "text": [
      "\n",
      "CPU times: user 95.1 ms, sys: 0 ns, total: 95.1 ms\n",
      "Wall time: 91.2 ms\n"
     ]
    }
   ],
   "source": [
    "%%time\n",
    "pbar = tqdm(labels)\n",
    "\n",
    "labels_cgr = {}\n",
    "for label in pbar:\n",
    "    pbar.set_description(label)\n",
    "    labels_cgr[label] = get_words_neighborhood(label, 2, 'all', keep='top20000')"
   ]
  },
  {
   "cell_type": "code",
   "execution_count": 514,
   "metadata": {},
   "outputs": [
    {
     "data": {
      "text/plain": [
       "{'flor': 475, 'geometría': 164, 'planta': 1418}"
      ]
     },
     "execution_count": 514,
     "metadata": {},
     "output_type": "execute_result"
    }
   ],
   "source": [
    "{l:len(labels_cgr[l]) for l in labels_cgr}"
   ]
  },
  {
   "cell_type": "code",
   "execution_count": 515,
   "metadata": {},
   "outputs": [
    {
     "data": {
      "text/plain": [
       "dict_keys(['flor', 'geometría', 'planta'])"
      ]
     },
     "execution_count": 515,
     "metadata": {},
     "output_type": "execute_result"
    }
   ],
   "source": [
    "labels_cgr.keys()"
   ]
  },
  {
   "cell_type": "code",
   "execution_count": 516,
   "metadata": {},
   "outputs": [],
   "source": [
    "def get_document_score(doc, label_neighborhood):\n",
    "    # tokens = preprocess(doc)\n",
    "    if type(doc) == str:\n",
    "        doc = doc.split(' ')\n",
    "    tokens = doc\n",
    "    related_words = []\n",
    "    score = 0\n",
    "    for token in tokens: \n",
    "        if token in label_neighborhood:\n",
    "            similarity = label_neighborhood[token]['sim']\n",
    "            if similarity > 0:\n",
    "                related_words.append((token, label_neighborhood[token]['rels'][0], similarity))\n",
    "                score += similarity\n",
    "        \n",
    "    return score# , sorted(related_words, key=lambda t: -t[-1])"
   ]
  },
  {
   "cell_type": "code",
   "execution_count": 517,
   "metadata": {},
   "outputs": [
    {
     "data": {
      "text/plain": [
       "'Tejido rectangular con fondo en color y decoración a base de capullos de flor en color verde.'"
      ]
     },
     "execution_count": 517,
     "metadata": {},
     "output_type": "execute_result"
    }
   ],
   "source": [
    "ds_techniques.text[0]"
   ]
  },
  {
   "cell_type": "code",
   "execution_count": 518,
   "metadata": {},
   "outputs": [],
   "source": [
    "data_silknow = ds_techniques.text.tolist()"
   ]
  },
  {
   "cell_type": "code",
   "execution_count": 519,
   "metadata": {},
   "outputs": [
    {
     "name": "stdout",
     "output_type": "stream",
     "text": [
      "Number of processors:  32\n"
     ]
    }
   ],
   "source": [
    "print(\"Number of processors: \", mp.cpu_count())"
   ]
  },
  {
   "cell_type": "code",
   "execution_count": 520,
   "metadata": {},
   "outputs": [
    {
     "name": "stdout",
     "output_type": "stream",
     "text": [
      "CPU times: user 67.8 ms, sys: 2.09 s, total: 2.16 s\n",
      "Wall time: 2.69 s\n"
     ]
    }
   ],
   "source": [
    "%%time\n",
    "with mp.Pool(mp.cpu_count()) as pool:\n",
    "    data_preprocessed = pool.map(preprocess, ds_techniques.text)"
   ]
  },
  {
   "cell_type": "code",
   "execution_count": 521,
   "metadata": {},
   "outputs": [],
   "source": [
    "def scoring_silknow(doc, labels_ns=labels_cgr):\n",
    "    return np.argmax([get_document_score(doc, labels_ns[l]) for l in sorted(labels_ns.keys())])"
   ]
  },
  {
   "cell_type": "code",
   "execution_count": 522,
   "metadata": {},
   "outputs": [],
   "source": [
    "def generate_predictions(corpus_preprocessed, labels_cgr):\n",
    "    with mp.Pool(processes=mp.cpu_count()) as pool:\n",
    "        predictions = pool.map(scoring_silknow, corpus_preprocessed)\n",
    "    return predictions"
   ]
  },
  {
   "cell_type": "code",
   "execution_count": 523,
   "metadata": {},
   "outputs": [
    {
     "name": "stdout",
     "output_type": "stream",
     "text": [
      "CPU times: user 0 ns, sys: 1.71 s, total: 1.71 s\n",
      "Wall time: 1.61 s\n"
     ]
    }
   ],
   "source": [
    "%%time\n",
    "predictions = generate_predictions(data_preprocessed, labels_cgr)"
   ]
  },
  {
   "cell_type": "code",
   "execution_count": 524,
   "metadata": {},
   "outputs": [
    {
     "data": {
      "text/plain": [
       "[0, 0, 2, 0, 2, 0, 0, 0, 0, 0]"
      ]
     },
     "execution_count": 524,
     "metadata": {},
     "output_type": "execute_result"
    }
   ],
   "source": [
    "\n",
    "\n",
    "predictions[:10]"
   ]
  },
  {
   "cell_type": "code",
   "execution_count": 525,
   "metadata": {},
   "outputs": [],
   "source": [
    "\n",
    "prediction_labels = [labels[p] for p in predictions]"
   ]
  },
  {
   "cell_type": "code",
   "execution_count": 526,
   "metadata": {
    "scrolled": true
   },
   "outputs": [
    {
     "data": {
      "text/plain": [
       "{'flor', 'geometría', 'planta'}"
      ]
     },
     "execution_count": 526,
     "metadata": {},
     "output_type": "execute_result"
    }
   ],
   "source": [
    "set(prediction_labels)"
   ]
  },
  {
   "cell_type": "code",
   "execution_count": 527,
   "metadata": {},
   "outputs": [],
   "source": [
    "true_labels = [mapping[l] for l in ds_techniques.label.tolist()]"
   ]
  },
  {
   "cell_type": "code",
   "execution_count": null,
   "metadata": {},
   "outputs": [],
   "source": []
  },
  {
   "cell_type": "code",
   "execution_count": null,
   "metadata": {},
   "outputs": [],
   "source": []
  },
  {
   "cell_type": "code",
   "execution_count": null,
   "metadata": {},
   "outputs": [],
   "source": []
  },
  {
   "cell_type": "code",
   "execution_count": null,
   "metadata": {},
   "outputs": [],
   "source": []
  },
  {
   "cell_type": "markdown",
   "metadata": {},
   "source": [
    "# Techniques"
   ]
  },
  {
   "cell_type": "code",
   "execution_count": 528,
   "metadata": {},
   "outputs": [
    {
     "name": "stdout",
     "output_type": "stream",
     "text": [
      "              precision    recall  f1-score   support\n",
      "\n",
      "        flor      0.952     0.602     0.738      2442\n",
      "   geometría      0.034     0.647     0.064        17\n",
      "      planta      0.144     0.518     0.225       226\n",
      "\n",
      "    accuracy                          0.596      2685\n",
      "   macro avg      0.377     0.589     0.342      2685\n",
      "weighted avg      0.878     0.596     0.690      2685\n",
      "\n"
     ]
    }
   ],
   "source": [
    "print(classification_report(prediction_labels, true_labels, digits=3))\n",
    "m = np.asarray(prediction_labels)\n",
    "ds_techniques[\"predictions\"] = m \n",
    "ds_techniques.to_csv('visual-items-es-predictions.csv')"
   ]
  },
  {
   "cell_type": "code",
   "execution_count": 529,
   "metadata": {},
   "outputs": [
    {
     "data": {
      "text/plain": [
       "<matplotlib.axes._subplots.AxesSubplot at 0x7f717bb887f0>"
      ]
     },
     "execution_count": 529,
     "metadata": {},
     "output_type": "execute_result"
    },
    {
     "data": {
      "image/png": "[encoded data removed]",
      "text/plain": [
       "<Figure size 360x360 with 2 Axes>"
      ]
     },
     "metadata": {
      "needs_background": "light"
     },
     "output_type": "display_data"
    }
   ],
   "source": [
    "cm = confusion_matrix(prediction_labels, true_labels)\n",
    "cm_df = pd.DataFrame(cm, columns=labels, index=labels)\n",
    "plt.figure(figsize = (5,5))\n",
    "sns.heatmap(cm_df)"
   ]
  },
  {
   "cell_type": "code",
   "execution_count": null,
   "metadata": {},
   "outputs": [],
   "source": []
  },
  {
   "cell_type": "markdown",
   "metadata": {},
   "source": [
    "# \"Top-k\" evaluation"
   ]
  },
  {
   "cell_type": "code",
   "execution_count": 530,
   "metadata": {},
   "outputs": [
    {
     "name": "stdout",
     "output_type": "stream",
     "text": [
      "              precision    recall  f1-score   support\n",
      "\n",
      "        flor      0.033     0.823     0.063        62\n",
      "   geometría      0.966     0.994     0.980       317\n",
      "      planta      0.998     0.352     0.521      2306\n",
      "\n",
      "    accuracy                          0.439      2685\n",
      "   macro avg      0.666     0.723     0.521      2685\n",
      "weighted avg      0.972     0.439     0.564      2685\n",
      "\n"
     ]
    }
   ],
   "source": [
    "k = 2\n",
    "def scoring_silknow_top_n(doc, labels_ns=labels_cgr, n=k):\n",
    "    return np.argsort([get_document_score(doc, labels_ns[l]) for l in sorted(labels_ns.keys())])[:-(n+1):-1]\n",
    "def generate_top_predictions(corpus_preprocessed, labels_cgr):\n",
    "    with mp.Pool(processes=mp.cpu_count()) as pool:\n",
    "        predictions = pool.map(scoring_silknow_top_n, corpus_preprocessed)\n",
    "    return predictions\n",
    "true_labels = [mapping[l] for l in ds_techniques.label.tolist()]\n",
    "topk_predictions_lists = generate_top_predictions(data_preprocessed, labels_cgr)\n",
    "prediction_labels_lists = [[labels[l] for l in p] for p in topk_predictions_lists]\n",
    "topk_predictions = []\n",
    "\n",
    "for i, gt_label in enumerate(true_labels):\n",
    "    topk_predictions.append(gt_label if gt_label in prediction_labels_lists[i] else prediction_labels_lists[i][0])\n",
    "print(classification_report(topk_predictions, true_labels, digits=3))"
   ]
  },
  {
   "cell_type": "code",
   "execution_count": 531,
   "metadata": {},
   "outputs": [
    {
     "name": "stdout",
     "output_type": "stream",
     "text": [
      "              precision    recall  f1-score   support\n",
      "\n",
      "        flor      1.000     1.000     1.000      1545\n",
      "   geometría      1.000     1.000     1.000       326\n",
      "      planta      1.000     1.000     1.000       814\n",
      "\n",
      "    accuracy                          1.000      2685\n",
      "   macro avg      1.000     1.000     1.000      2685\n",
      "weighted avg      1.000     1.000     1.000      2685\n",
      "\n"
     ]
    }
   ],
   "source": [
    "k = 3\n",
    "def scoring_silknow_top_n(doc, labels_ns=labels_cgr, n=k):\n",
    "    return np.argsort([get_document_score(doc, labels_ns[l]) for l in sorted(labels_ns.keys())])[:-(n+1):-1]\n",
    "def generate_top_predictions(corpus_preprocessed, labels_cgr):\n",
    "    with mp.Pool(processes=mp.cpu_count()) as pool:\n",
    "        predictions = pool.map(scoring_silknow_top_n, corpus_preprocessed)\n",
    "    return predictions\n",
    "true_labels = [mapping[l] for l in ds_techniques.label.tolist()]\n",
    "topk_predictions_lists = generate_top_predictions(data_preprocessed, labels_cgr)\n",
    "prediction_labels_lists = [[labels[l] for l in p] for p in topk_predictions_lists]\n",
    "topk_predictions = []\n",
    "\n",
    "for i, gt_label in enumerate(true_labels):\n",
    "    topk_predictions.append(gt_label if gt_label in prediction_labels_lists[i] else prediction_labels_lists[i][0])\n",
    "print(classification_report(topk_predictions, true_labels, digits=3))"
   ]
  },
  {
   "cell_type": "code",
   "execution_count": null,
   "metadata": {},
   "outputs": [],
   "source": []
  },
  {
   "cell_type": "code",
   "execution_count": null,
   "metadata": {},
   "outputs": [],
   "source": []
  },
  {
   "cell_type": "code",
   "execution_count": null,
   "metadata": {},
   "outputs": [],
   "source": []
  },
  {
   "cell_type": "code",
   "execution_count": null,
   "metadata": {},
   "outputs": [],
   "source": []
  },
  {
   "cell_type": "code",
   "execution_count": null,
   "metadata": {},
   "outputs": [],
   "source": []
  },
  {
   "cell_type": "code",
   "execution_count": null,
   "metadata": {},
   "outputs": [],
   "source": []
  },
  {
   "cell_type": "code",
   "execution_count": null,
   "metadata": {},
   "outputs": [],
   "source": []
  },
  {
   "cell_type": "code",
   "execution_count": null,
   "metadata": {},
   "outputs": [],
   "source": []
  },
  {
   "cell_type": "code",
   "execution_count": null,
   "metadata": {},
   "outputs": [],
   "source": []
  }
 ],
 "metadata": {
  "kernelspec": {
   "display_name": "Python 3",
   "language": "python",
   "name": "python3"
  },
  "language_info": {
   "codemirror_mode": {
    "name": "ipython",
    "version": 3
   },
   "file_extension": ".py",
   "mimetype": "text/x-python",
   "name": "python",
   "nbconvert_exporter": "python",
   "pygments_lexer": "ipython3",
   "version": "3.8.2"
  }
 },
 "nbformat": 4,
 "nbformat_minor": 4
}
